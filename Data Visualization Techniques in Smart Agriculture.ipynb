{
 "cells": [
  {
   "cell_type": "markdown",
   "id": "c9d62bf7",
   "metadata": {},
   "source": [
    "# Data Collection"
   ]
  },
  {
   "cell_type": "code",
   "execution_count": null,
   "id": "a8d067d3",
   "metadata": {},
   "outputs": [],
   "source": [
    "import pandas as pd\n",
    "# Read data from a excel file\n",
    "data = pd.read_excel('Data Visualization Technique in Smart Agriculture.xlsx')"
   ]
  },
  {
   "cell_type": "markdown",
   "id": "feecf5e2",
   "metadata": {},
   "source": [
    "# Data Exploration"
   ]
  },
  {
   "cell_type": "code",
   "execution_count": null,
   "id": "fa3b9e21",
   "metadata": {},
   "outputs": [],
   "source": [
    "# Check the number of rows and columns\n",
    "data.shape"
   ]
  },
  {
   "cell_type": "code",
   "execution_count": null,
   "id": "a5d0ddea",
   "metadata": {},
   "outputs": [],
   "source": [
    "# View column names\n",
    "data.columns"
   ]
  },
  {
   "cell_type": "code",
   "execution_count": null,
   "id": "adb39487",
   "metadata": {},
   "outputs": [],
   "source": [
    "# Preview first few rows\n",
    "data.head()"
   ]
  },
  {
   "cell_type": "code",
   "execution_count": null,
   "id": "81b1dd7a",
   "metadata": {},
   "outputs": [],
   "source": [
    "# Preview last few rows\n",
    "data.tail()"
   ]
  },
  {
   "cell_type": "code",
   "execution_count": null,
   "id": "10fc0822",
   "metadata": {},
   "outputs": [],
   "source": [
    "# give only those columns which does not contain string data \n",
    "data.describe()"
   ]
  },
  {
   "cell_type": "code",
   "execution_count": null,
   "id": "879dd7a3",
   "metadata": {},
   "outputs": [],
   "source": [
    "# tells deep information about columns\n",
    "data.info()"
   ]
  },
  {
   "cell_type": "code",
   "execution_count": null,
   "id": "8679ab36",
   "metadata": {},
   "outputs": [],
   "source": [
    "# tells the unique values of each column\n",
    "data.nunique()"
   ]
  },
  {
   "cell_type": "code",
   "execution_count": null,
   "id": "df5b27c8",
   "metadata": {},
   "outputs": [],
   "source": [
    "# we can also check seperatly \n",
    "data['Water Required'].unique()"
   ]
  },
  {
   "cell_type": "markdown",
   "id": "a26e3327",
   "metadata": {},
   "source": [
    "# Data Cleaning"
   ]
  },
  {
   "cell_type": "code",
   "execution_count": null,
   "id": "c66f7c81",
   "metadata": {},
   "outputs": [],
   "source": [
    "# checking null values\n",
    "data.isnull().sum()"
   ]
  },
  {
   "cell_type": "code",
   "execution_count": null,
   "id": "878c5467",
   "metadata": {},
   "outputs": [],
   "source": [
    "# droping redundant/duplicate data\n",
    "clean_data = data.drop(['Soil Moisture Raw Value', 'N_For_User', 'P_For_User', 'K_For_User'], axis=1)\n",
    "\n",
    "# now check\n",
    "clean_data.columns"
   ]
  },
  {
   "cell_type": "markdown",
   "id": "337a2c3a",
   "metadata": {},
   "source": [
    "# Summary Statistics"
   ]
  },
  {
   "cell_type": "code",
   "execution_count": null,
   "id": "f6bad43f",
   "metadata": {},
   "outputs": [],
   "source": [
    "# average\n",
    "clean_data.mean()"
   ]
  },
  {
   "cell_type": "code",
   "execution_count": null,
   "id": "9c32b707",
   "metadata": {},
   "outputs": [],
   "source": [
    "# middle value of dataset\n",
    "clean_data.median()"
   ]
  },
  {
   "cell_type": "code",
   "execution_count": null,
   "id": "d793f0b7",
   "metadata": {},
   "outputs": [],
   "source": [
    "# most repeated value\n",
    "clean_data.mode()"
   ]
  },
  {
   "cell_type": "markdown",
   "id": "dab07b89",
   "metadata": {},
   "source": [
    "# Data Visualization"
   ]
  },
  {
   "cell_type": "code",
   "execution_count": null,
   "id": "087b09d5",
   "metadata": {
    "scrolled": false
   },
   "outputs": [],
   "source": [
    "# Histogram\n",
    "import matplotlib.pyplot as plt\n",
    "import pandas as pd\n",
    "\n",
    "# Convert the 'Data Added' column to datetime (from a string format to a datetime object)\n",
    "clean_data['Data Added'] = pd.to_datetime(clean_data['Data Added'], format='%d-%b-%Y %I:%M %p')\n",
    "\n",
    "# Extract year and month for aggregation\n",
    "clean_data['YearMonth'] = clean_data['Data Added'].dt.to_period('M')\n",
    "\n",
    "# Function to plot histogram with monthly aggregation for numeric features\n",
    "def plot_histogram_with_date(data, feature, title, xlabel, ylabel='Frequency'):\n",
    "    monthly_counts = data.groupby(['YearMonth'])[feature].mean()\n",
    "    monthly_counts.plot(kind='bar', figsize=(12, 6))\n",
    "    plt.title(title)\n",
    "    plt.xlabel(xlabel)\n",
    "    plt.ylabel(ylabel)\n",
    "    plt.xticks(rotation=45)\n",
    "    plt.show()\n",
    "\n",
    "# Function to plot histogram with monthly aggregation for categorical features\n",
    "# The .unstack() method reshapes the resulting series into a DataFrame\n",
    "def plot_histogram_with_date_categorical(data, feature, title, xlabel, ylabel='Frequency'):\n",
    "    monthly_counts = data.groupby(['YearMonth'])[feature].value_counts().unstack()\n",
    "    monthly_counts.plot(kind='bar', stacked=True, figsize=(12, 6))\n",
    "    plt.title(title)\n",
    "    plt.xlabel(xlabel)\n",
    "    plt.ylabel(ylabel)\n",
    "    plt.xticks(rotation=45)\n",
    "    plt.legend(title=feature)\n",
    "    plt.show()\n",
    "\n",
    "# Plot histograms for the required features\n",
    "plot_histogram_with_date(clean_data, 'Heat Index', \"Average Heat Index Over Time\", \"Year-Month\", \"Average Heat Index\")\n",
    "plot_histogram_with_date(clean_data, 'Soil Moisture', \"Average Soil Moisture Over Time\", \"Year-Month\", \"Average Soil Moisture\")\n",
    "plot_histogram_with_date(clean_data, 'Soil Temp', \"Average Soil Temperature Over Time\", \"Year-Month\", \"Average Soil Temperature\")\n",
    "plot_histogram_with_date(clean_data, 'Nitrogen', \"Average Nitrogen Level Over Time\", \"Year-Month\", \"Average Nitrogen Level\")\n",
    "plot_histogram_with_date(clean_data, 'Phosphorus', \"Average Phosphorus Level Over Time\", \"Year-Month\", \"Average Phosphorus Level\")\n",
    "plot_histogram_with_date(clean_data, 'Potassium', \"Average Potassium Level Over Time\", \"Year-Month\", \"Average Potassium Level\")\n",
    "\n",
    "# Plot histograms for categorical features\n",
    "plot_histogram_with_date_categorical(clean_data, 'Salinity', \"Salinity Over Time\", \"Year-Month\", \"Frequency\")\n",
    "plot_histogram_with_date_categorical(clean_data, 'Water Required', \"Water Required Over Time\", \"Year-Month\", \"Frequency\")"
   ]
  },
  {
   "cell_type": "code",
   "execution_count": null,
   "id": "b879e08e",
   "metadata": {},
   "outputs": [],
   "source": [
    "import matplotlib.pyplot as plt\n",
    "\n",
    "# inversely propotional \n",
    "plt.scatter(clean_data['Temperature'], clean_data['Humidity'], color='red', marker='o', label='Temperature')\n",
    "plt.scatter(clean_data['Temperature'], clean_data['Humidity'], color='blue', marker='x', label='Humidity')\n",
    "plt.title('Temperature vs. Humidity')\n",
    "plt.xlabel('Temperature')\n",
    "plt.ylabel('Humidity')\n",
    "plt.legend()\n",
    "plt.show()\n",
    "\n",
    "# directly propotional\n",
    "plt.scatter(clean_data['Temperature'], clean_data['API Temperature'], color='red', marker='o', label='Temperature')\n",
    "plt.scatter(clean_data['Temperature'], clean_data['API Temperature'], color='blue', marker='x', label='API Temperature')\n",
    "plt.title('Temperature vs. API Temperature')\n",
    "plt.xlabel('Temperature')\n",
    "plt.ylabel('API Temperature')\n",
    "plt.legend()\n",
    "plt.show()\n",
    "\n",
    "# increase  in temperature  is  associated with  a  noticeable  rise  in  the  heat  index\n",
    "plt.scatter(clean_data['Temperature'], clean_data['Heat Index'], color='red', marker='o', label='Temperature')\n",
    "plt.scatter(clean_data['Temperature'], clean_data['Heat Index'], color='blue', marker='x', label='Heat Index')\n",
    "plt.title('Temperature vs. Heat Index')\n",
    "plt.xlabel('Temperature')\n",
    "plt.ylabel('Heat Index')\n",
    "plt.legend()\n",
    "plt.show()\n",
    "\n",
    "plt.scatter(clean_data['Soil Moisture'], clean_data['Soil Temp'], color='red', marker='o', label='Soil Moisture')\n",
    "plt.scatter(clean_data['Soil Moisture'], clean_data['Soil Temp'], color='blue', marker='x', label='Soil Temp')\n",
    "plt.title('Soil Moisture vs. Soil Temp')\n",
    "plt.xlabel('Soil Moisture')\n",
    "plt.ylabel('Soil Temp')\n",
    "plt.legend()\n",
    "plt.show()"
   ]
  },
  {
   "cell_type": "code",
   "execution_count": null,
   "id": "e33f5ab1",
   "metadata": {},
   "outputs": [],
   "source": [
    "# bar chart\n",
    "import matplotlib.pyplot as plt\n",
    "import pandas as pd\n",
    "\n",
    "# Convert the 'Data Added' column to datetime\n",
    "clean_data['Data Added'] = pd.to_datetime(clean_data['Data Added'], format='%d-%b-%Y %I:%M %p')\n",
    "\n",
    "# Extract year and month for aggregation\n",
    "clean_data['YearMonth'] = clean_data['Data Added'].dt.to_period('M')\n",
    "\n",
    "# Function to plot bar chart with date aggregation for categorical features\n",
    "def plot_bar_chart_with_date_categorical(data, feature, title, xlabel, ylabel='Frequency'):\n",
    "    monthly_counts = data.groupby(['YearMonth'])[feature].value_counts().unstack()\n",
    "    monthly_counts.plot(kind='bar', stacked=True, figsize=(12, 6))\n",
    "    plt.title(title)\n",
    "    plt.xlabel(xlabel)\n",
    "    plt.ylabel(ylabel)\n",
    "    plt.xticks(rotation=45)\n",
    "    plt.legend(title=feature)\n",
    "    plt.show()\n",
    "\n",
    "# Plot bar charts for categorical features\n",
    "plot_bar_chart_with_date_categorical(clean_data, 'Salinity', \"Salinity Over Time\", \"Year-Month\", \"Frequency\")\n",
    "plot_bar_chart_with_date_categorical(clean_data, 'Water Required', \"Water Required Over Time\", \"Year-Month\", \"Frequency\")\n"
   ]
  },
  {
   "cell_type": "markdown",
   "id": "be5105d5",
   "metadata": {},
   "source": [
    "# Correlation Analysis"
   ]
  },
  {
   "cell_type": "code",
   "execution_count": null,
   "id": "7f3cc402",
   "metadata": {},
   "outputs": [],
   "source": [
    "import seaborn as sns\n",
    "\n",
    "# Select numeric columns\n",
    "numeric_columns = clean_data.select_dtypes(include=['float64', 'int64'])\n",
    "\n",
    "# Calculate correlation matrix\n",
    "correlation_matrix = numeric_columns.corr()\n",
    "\n",
    "# Heatmap of correlation matrix\n",
    "sns.heatmap(correlation_matrix, annot=True, cmap='coolwarm')\n",
    "plt.title('Correlation Matrix')\n",
    "plt.show()"
   ]
  },
  {
   "cell_type": "code",
   "execution_count": null,
   "id": "7ec04602",
   "metadata": {},
   "outputs": [],
   "source": [
    "correlation_matrix = clean_data[['Humidity', 'API Humidity', 'Temperature', 'API Temperature', 'Heat Index', 'Soil Moisture', 'Soil Temp', 'Nitrogen','Phosphorus', 'Potassium', 'TDS', 'E_D', 'Soil_EC Raw']].corr()\n",
    "\n",
    "# Heatmap of correlation matrix\n",
    "sns.heatmap(correlation_matrix, annot=True, cmap='coolwarm')\n",
    "plt.title('Correlation Matrix')\n",
    "plt.show()"
   ]
  },
  {
   "cell_type": "markdown",
   "id": "536dd993",
   "metadata": {},
   "source": [
    "# Outlier Detection"
   ]
  },
  {
   "cell_type": "code",
   "execution_count": null,
   "id": "39767a09",
   "metadata": {},
   "outputs": [],
   "source": [
    "import pandas as pd\n",
    "from scipy.stats import zscore\n",
    "\n",
    "# where the Z-score is greater than 3 or less than -3. These cutoff values (3 and -3) are commonly used thresholds to \n",
    "# identify extreme outliers based on the Z-score method.\n",
    "# Z-score method for Heat Index\n",
    "clean_data['z_score'] = zscore(clean_data['Heat Index'])\n",
    "outliers = clean_data[(clean_data['z_score'] > 3) | (clean_data['z_score'] < -3)]\n",
    "print(\"Outliers of Heat Index:\")\n",
    "print(outliers)\n",
    "print()\n",
    "\n",
    "# Z-score method for Soil Moisture\n",
    "clean_data['z_score'] = zscore(clean_data['Soil Moisture'])\n",
    "outliers = clean_data[(clean_data['z_score'] > 3) | (clean_data['z_score'] < -3)]\n",
    "print(\"Outliers of Soil Moisture:\")\n",
    "print(outliers)\n",
    "print()\n",
    "\n",
    "# Z-score method for Soil Temp\n",
    "clean_data['z_score'] = zscore(clean_data['Soil Temp'])\n",
    "outliers = clean_data[(clean_data['z_score'] > 3) | (clean_data['z_score'] < -3)]\n",
    "print(\"Outliers of Soil Temp:\")\n",
    "print(outliers)\n",
    "print()\n",
    "\n",
    "# Z-score method for Nitrogen\n",
    "clean_data['z_score'] = zscore(clean_data['Nitrogen'])\n",
    "outliers = clean_data[(clean_data['z_score'] > 3) | (clean_data['z_score'] < -3)]\n",
    "print(\"Outliers of Nitrogen:\")\n",
    "print(outliers)\n",
    "print()\n",
    "\n",
    "# Z-score method for Phosphorus\n",
    "clean_data['z_score'] = zscore(clean_data['Phosphorus'])\n",
    "outliers = clean_data[(clean_data['z_score'] > 3) | (clean_data['z_score'] < -3)]\n",
    "print(\"Outliers of Phosphorus:\")\n",
    "print(outliers)\n",
    "print()\n",
    "\n",
    "# Z-score method for Potassium\n",
    "clean_data['z_score'] = zscore(clean_data['Potassium'])\n",
    "outliers = clean_data[(clean_data['z_score'] > 3) | (clean_data['z_score'] < -3)]\n",
    "print(\"Outliers of Potassium:\")\n",
    "print(outliers)"
   ]
  },
  {
   "cell_type": "markdown",
   "id": "d6941e0f",
   "metadata": {},
   "source": [
    "# Feature Selection"
   ]
  },
  {
   "cell_type": "code",
   "execution_count": null,
   "id": "9ddf7876",
   "metadata": {
    "scrolled": true
   },
   "outputs": [],
   "source": [
    "from sklearn.feature_selection import mutual_info_classif\n",
    "from sklearn.preprocessing import LabelEncoder\n",
    "import pandas as pd\n",
    "import numpy as np\n",
    "\n",
    "# Encode categorical data\n",
    "label_encoder = LabelEncoder()\n",
    "clean_data['Water Required'] = label_encoder.fit_transform(clean_data['Water Required'])\n",
    "clean_data['Salinity'] = label_encoder.fit_transform(clean_data['Salinity'])\n",
    "\n",
    "# Exclude non-numeric columns, particularly dates\n",
    "numeric_cols = clean_data.select_dtypes(include=[np.number]).columns.tolist()\n",
    "\n",
    "# Separate features (X) and target variable (y)\n",
    "X = clean_data[numeric_cols].drop(columns=['Water Required']) \n",
    "y = clean_data['Water Required']\n",
    "\n",
    "# Calculate feature importance using mutual information gain\n",
    "importance = mutual_info_classif(X, y)\n",
    "\n",
    "# Ensure that the index for feature importance correctly excludes the target column\n",
    "# the index consists of feature names and the values are the corresponding mutual information scores\n",
    "feat_importance = pd.Series(importance, index=X.columns)\n",
    "feat_importance.sort_values(ascending=False, inplace=True)\n",
    "\n",
    "# Plot feature importance as a horizontal bar plot\n",
    "feat_importance.plot(kind='barh', color='teal')"
   ]
  },
  {
   "cell_type": "code",
   "execution_count": null,
   "id": "1f310413",
   "metadata": {},
   "outputs": [],
   "source": [
    "def determine_crop_health_cotton(row):\n",
    "    healthy_conditions = 0\n",
    "\n",
    "    # Temperature suitable for cotton is between 20°C and 30°C\n",
    "    if 20 <= row['Temperature'] <= 32:\n",
    "        healthy_conditions += 1\n",
    "\n",
    "    # Humidity: Cotton does well in moderate humidity (30-60% is generally good)\n",
    "    if 50 <= row['Humidity'] <= 64:\n",
    "        healthy_conditions += 1\n",
    "\n",
    "    # Soil Moisture: Adjust range to reflect realistic agricultural practice\n",
    "    if 40 <= row['Soil Moisture'] <= 70:\n",
    "        healthy_conditions += 1\n",
    "\n",
    "    # Soil Temperature: Cotton root systems are sensitive to extreme temperatures\n",
    "    if 30 <= row['Soil Temp'] <= 60:\n",
    "        healthy_conditions += 1\n",
    "\n",
    "    # Salinity should be low for cotton but some tolerance is observed\n",
    "    if row['Salinity'] == 'low':\n",
    "        healthy_conditions += 1\n",
    "\n",
    "    # Adjust nutrient levels to more realistic expectations based on agronomic data\n",
    "    if 20 <= row['Phosphorus'] <= 65:\n",
    "        healthy_conditions += 1\n",
    "    if 80 <= row['Potassium'] <= 180:\n",
    "        healthy_conditions += 1\n",
    "    if 10 <= row['Nitrogen'] <= 50:\n",
    "        healthy_conditions += 1\n",
    "\n",
    "    # Define cotton as healthy if at least 5 of the 8 conditions are met\n",
    "    if healthy_conditions >= 3:\n",
    "        return 'Healthy'\n",
    "    else:\n",
    "        return 'Unhealthy'\n",
    "\n",
    "# Convert the 'Data Added' column to datetime\n",
    "clean_data['Data Added'] = pd.to_datetime(clean_data['Data Added'], format='%d-%b-%Y %I:%M %p')\n",
    "\n",
    "# Extract year and month for aggregation\n",
    "clean_data['YearMonth'] = clean_data['Data Added'].dt.to_period('M')\n",
    "\n",
    "# Function to plot bar chart with date aggregation for categorical features\n",
    "def plot_bar_chart_with_date_categorical(data, feature, title, xlabel, ylabel='Frequency'):\n",
    "    monthly_counts = data.groupby(['YearMonth'])[feature].value_counts().unstack()\n",
    "    monthly_counts.plot(kind='bar', stacked=True, figsize=(12, 6))\n",
    "    plt.title(title)\n",
    "    plt.xlabel(xlabel)\n",
    "    plt.ylabel(ylabel)\n",
    "    plt.xticks(rotation=45)\n",
    "    plt.legend(title=feature)\n",
    "    plt.show()\n",
    "\n",
    "#  Apply the updated function to create the 'Crop Health' column\n",
    "clean_data['Crop Health'] = clean_data.apply(determine_crop_health_cotton, axis=1)\n",
    "\n",
    "# Plot bar chart for healthy vs unhealthy crops with date aggregation\n",
    "plot_bar_chart_with_date_categorical(clean_data, 'Crop Health', \"Cotton Crop Health Over Time\", \"Year-Month\", \"Frequency\")"
   ]
  },
  {
   "cell_type": "markdown",
   "id": "3c8c3b72",
   "metadata": {},
   "source": [
    "# Algorithms "
   ]
  },
  {
   "cell_type": "code",
   "execution_count": null,
   "id": "a54bff4a",
   "metadata": {},
   "outputs": [],
   "source": [
    "x = clean_data[['Humidity', 'Temperature', 'Heat Index', 'Soil Moisture', 'Soil Temp', 'TDS', 'ETo', 'ETc', 'E_D', 'Soil_EC Raw']]\n",
    "y = clean_data['Water Required']\n",
    "\n",
    "x_crop = clean_data[['Temperature', 'Humidity', 'Soil Moisture', 'Soil Temp', 'Salinity', 'Nitrogen', 'Phosphorus', 'Potassium']]"
   ]
  },
  {
   "cell_type": "markdown",
   "id": "504985a3",
   "metadata": {},
   "source": [
    "# 1. KNN"
   ]
  },
  {
   "cell_type": "code",
   "execution_count": null,
   "id": "d4220bc8",
   "metadata": {},
   "outputs": [],
   "source": [
    "from sklearn.model_selection import train_test_split\n",
    "from sklearn.neighbors import KNeighborsClassifier\n",
    "from sklearn.metrics import accuracy_score, classification_report\n",
    "\n",
    "# Split the data into training and testing sets\n",
    "X_train_wr, X_test_wr, y_train_wr, y_test_wr = train_test_split(x, y, test_size=0.2, random_state=42)\n",
    "\n",
    "# Initialize the KNN model\n",
    "# 5..means that the algorithm will consider the labels of the 5 nearest data points to the new data point being \n",
    "# classified.  The prediction for the new data point is then determined by a majority vote among its nearest neighbors. \n",
    "knn_wr = KNeighborsClassifier(n_neighbors=5)\n",
    "\n",
    "# Train the KNN model\n",
    "knn_wr.fit(X_train_wr, y_train_wr)\n",
    "\n",
    "# Make predictions on the test set\n",
    "y_pred_wr = knn_wr.predict(X_test_wr)\n",
    "\n",
    "# Evaluate the model's performance\n",
    "accuracy_wr = accuracy_score(y_test_wr, y_pred_wr)\n",
    "report_wr = classification_report(y_test_wr, y_pred_wr)\n",
    "\n",
    "print(f'Accuracy for Water Required prediction: {accuracy_wr}')\n",
    "print(f'Classification Report for Water Required prediction:\\n{report_wr}')\n",
    "\n",
    "# True Positive (TP): The model correctly predicts an email as spam when it is actually spam.\n",
    "# False Positive (FP): The model incorrectly predicts an email as spam when it is actually not spam (ham). \n",
    "# False Negative (FN): The model incorrectly predicts an email as not spam (ham) when it is actually spam. \n",
    "# True Negative (TN): The model correctly predicts an email as not spam (ham) when it is actually not spam.\n",
    "\n",
    "# precision: Precision measures the proportion of true positive predictions (correctly classified instances) among \n",
    "# all instances predicted as positive. It indicates the model's ability to avoid false positives.\n",
    "# Out of all emails predicted as spam, 75% were actually spam.\n",
    "\n",
    "# Recall: Recall (also called sensitivity) measures the proportion of true positive predictions among all \n",
    "# actual positive instances. It indicates the model's ability to capture all positive instances\n",
    "# Out of all actual spam emails, 100% were correctly predicted as spam."
   ]
  },
  {
   "cell_type": "code",
   "execution_count": null,
   "id": "a6016765",
   "metadata": {},
   "outputs": [],
   "source": [
    "# Separate features and target variable for Crop Health\n",
    "y_crop_health = clean_data['Crop Health']\n",
    "\n",
    "# Split the data into training and testing sets\n",
    "X_train_ch, X_test_ch, y_train_ch, y_test_ch = train_test_split(x_crop, y_crop_health, test_size=0.2, random_state=42)\n",
    "\n",
    "# Initialize the KNN model\n",
    "knn_ch = KNeighborsClassifier(n_neighbors=5)\n",
    "\n",
    "# Train the KNN model\n",
    "knn_ch.fit(X_train_ch, y_train_ch)\n",
    "\n",
    "# Make predictions on the test set\n",
    "y_pred_ch = knn_ch.predict(X_test_ch)\n",
    "\n",
    "# Evaluate the model's performance\n",
    "accuracy_ch = accuracy_score(y_test_ch, y_pred_ch)\n",
    "report_ch = classification_report(y_test_ch, y_pred_ch)\n",
    "\n",
    "print(f'Accuracy for Crop Health prediction: {accuracy_ch}')\n",
    "print(f'Classification Report for Crop Health prediction:\\n{report_ch}')"
   ]
  },
  {
   "cell_type": "markdown",
   "id": "d497811e",
   "metadata": {},
   "source": [
    "# 2. Naive Bayer Classifier"
   ]
  },
  {
   "cell_type": "code",
   "execution_count": null,
   "id": "59df3ecf",
   "metadata": {},
   "outputs": [],
   "source": [
    "from sklearn.model_selection import train_test_split\n",
    "from sklearn.naive_bayes import GaussianNB\n",
    "from sklearn.metrics import confusion_matrix, accuracy_score, classification_report\n",
    "\n",
    "# Separate features and target variable for Water Required\n",
    "y_water_required = clean_data['Water Required']\n",
    "\n",
    "# Split the data into training and testing sets\n",
    "X_train_wr, X_test_wr, y_train_wr, y_test_wr = train_test_split(x, y_water_required, test_size=0.2, random_state=42)\n",
    "\n",
    "# Initialize the Naive Bayes classifier\n",
    "nb_wr = GaussianNB()\n",
    "\n",
    "# Train the Naive Bayes classifier\n",
    "nb_wr.fit(X_train_wr, y_train_wr)\n",
    "\n",
    "# Make predictions on the test set\n",
    "y_pred_wr_nb = nb_wr.predict(X_test_wr)\n",
    "\n",
    "# Evaluate the model's performance\n",
    "confusionMatrix_wr_nb = confusion_matrix(y_test_wr, y_pred_wr_nb)\n",
    "accuracy_wr_nb = accuracy_score(y_test_wr, y_pred_wr_nb)\n",
    "report_wr_nb = classification_report(y_test_wr, y_pred_wr_nb)\n",
    "\n",
    "print(f'confusionMatrix for Water Required prediction (Naive Bayes):\\n {confusionMatrix_wr_nb}')\n",
    "print(f'Accuracy for Water Required prediction (Naive Bayes): {accuracy_wr_nb}')\n",
    "print(f'Classification Report for Water Required prediction (Naive Bayes):\\n{report_wr_nb}')\n",
    "\n",
    "# There are 451 true positive (instances correctly predicted as class 1).\n",
    "# There are 0 false positives (instances incorrectly predicted as class 1).\n",
    "# There are 0 false negatives (instances incorrectly predicted as class 0).\n",
    "# There are 149 true negative (instances correctly predicted as class 0)."
   ]
  },
  {
   "cell_type": "code",
   "execution_count": null,
   "id": "926427f0",
   "metadata": {},
   "outputs": [],
   "source": [
    "# Separate features and target variable for Crop Health\n",
    "y_crop_health = clean_data['Crop Health']\n",
    "\n",
    "# Split the data into training and testing sets\n",
    "X_train_ch, X_test_ch, y_train_ch, y_test_ch = train_test_split(x_crop, y_crop_health, test_size=0.2, random_state=42)\n",
    "\n",
    "# Initialize the Naive Bayes classifier\n",
    "nb_ch = GaussianNB()\n",
    "\n",
    "# Train the Naive Bayes classifier\n",
    "nb_ch.fit(X_train_ch, y_train_ch)\n",
    "\n",
    "# Make predictions on the test set\n",
    "y_pred_ch_nb = nb_ch.predict(X_test_ch)\n",
    "\n",
    "# Evaluate the model's performance\n",
    "confusionMatrix_ch_nb = confusion_matrix(y_test_ch, y_pred_ch_nb)\n",
    "accuracy_ch_nb = accuracy_score(y_test_ch, y_pred_ch_nb)\n",
    "report_ch_nb = classification_report(y_test_ch, y_pred_ch_nb)\n",
    "\n",
    "print(f'confusionMatrix for Crop Health prediction (Naive Bayes):\\n {confusionMatrix_ch_nb}')\n",
    "print(f'Accuracy for Crop Health prediction (Naive Bayes): {accuracy_ch_nb}')\n",
    "print(f'Classification Report for Crop Health prediction (Naive Bayes):\\n{report_ch_nb}')"
   ]
  },
  {
   "cell_type": "markdown",
   "id": "adf686da",
   "metadata": {},
   "source": [
    "# 3. Support Vector Machines"
   ]
  },
  {
   "cell_type": "code",
   "execution_count": null,
   "id": "501169c4",
   "metadata": {},
   "outputs": [],
   "source": [
    "import numpy as np\n",
    "from sklearn.preprocessing import StandardScaler\n",
    "from sklearn.model_selection import train_test_split\n",
    "from sklearn.svm import SVC\n",
    "from sklearn.metrics import classification_report, confusion_matrix\n",
    "\n",
    "# Split the dataset into training and testing sets\n",
    "X_train, X_test, y_train, y_test = train_test_split(x, y_water_required, test_size=0.2, random_state=42)\n",
    "\n",
    "# Initialize and train the SVM model with a radial basis function (RBF) kernel\n",
    "svm_model = SVC(kernel='rbf')\n",
    "svm_model.fit(X_train, y_train)\n",
    "\n",
    "# Make predictions on the test set\n",
    "y_pred = svm_model.predict(X_test)\n",
    "\n",
    "# Evaluate the model's performance\n",
    "conf_matrix_svm = confusion_matrix(y_test, y_pred)\n",
    "accuracy_svm = accuracy_score(y_test, y_pred)\n",
    "report_svm = classification_report(y_test, y_pred)\n",
    "\n",
    "print(f'Confusion Matrix for Water Required prediction (SVM):\\n {conf_matrix_svm}')\n",
    "print(f'Accuracy for Water Required prediction (SVM): {accuracy_svm:.2f}')\n",
    "print(f'Classification Report for Water Required prediction (SVM):\\n{report_svm}')\n"
   ]
  },
  {
   "cell_type": "code",
   "execution_count": null,
   "id": "5357adcb",
   "metadata": {},
   "outputs": [],
   "source": [
    "# Separate features and target variable for Crop Health\n",
    "y_crop_health = clean_data['Crop Health']\n",
    "\n",
    "# Split the data into training and testing sets\n",
    "X_train_ch, X_test_ch, y_train_ch, y_test_ch = train_test_split(x_crop, y_crop_health, test_size=0.2, random_state=42)\n",
    "\n",
    "# Initialize and train the SVM model with a radial basis function (RBF) kernel\n",
    "svm_model = SVC(kernel='rbf')\n",
    "svm_model.fit(X_train, y_train)\n",
    "\n",
    "# Make predictions on the test set\n",
    "y_pred = svm_model.predict(X_test)\n",
    "\n",
    "# Evaluate the model's performance\n",
    "conf_matrix_ch_svm = confusion_matrix(y_test, y_pred)\n",
    "accuracy_ch_svm = accuracy_score(y_test, y_pred)\n",
    "report_ch_svm = classification_report(y_test, y_pred)\n",
    "\n",
    "print(f'Confusion Matrix for Crop Health prediction (SVM):\\n {conf_matrix_svm}')\n",
    "print(f'Accuracy for Crop Health prediction (SVM): {accuracy_svm:.2f}')\n",
    "print(f'Classification Report for Crop Health prediction (SVM):\\n{report_svm}')"
   ]
  },
  {
   "cell_type": "markdown",
   "id": "da834f59",
   "metadata": {},
   "source": [
    "# Visualization Techniques"
   ]
  },
  {
   "cell_type": "markdown",
   "id": "82102867",
   "metadata": {},
   "source": [
    "# 1. Best Model (Bar Chart)"
   ]
  },
  {
   "cell_type": "code",
   "execution_count": null,
   "id": "77631eb2",
   "metadata": {},
   "outputs": [],
   "source": [
    "import matplotlib.pyplot as plt\n",
    "\n",
    "# Provided accuracies from the models\n",
    "accuracy_knn = accuracy_wr\n",
    "accuracy_nb = accuracy_wr_nb\n",
    "accuracy_svm = accuracy_svm\n",
    "\n",
    "# Labels for the bar chart\n",
    "models = ['KNN', 'Naive Bayes', 'SVM']\n",
    "accuracies = [accuracy_knn, accuracy_nb, accuracy_svm]\n",
    "\n",
    "# Create the bar chart\n",
    "plt.figure(figsize=(10, 6))\n",
    "plt.bar(models, accuracies, color=['blue', 'green', 'red'])\n",
    "plt.ylim(0, 1)\n",
    "plt.ylabel('Accuracy')\n",
    "plt.title('Model Accuracy Comparison for Water Required')\n",
    "plt.show()"
   ]
  },
  {
   "cell_type": "code",
   "execution_count": null,
   "id": "36497cee",
   "metadata": {},
   "outputs": [],
   "source": [
    "import matplotlib.pyplot as plt\n",
    "\n",
    "# Provided accuracies from the models\n",
    "accuracy_knn = accuracy_ch\n",
    "accuracy_nb = accuracy_ch_nb\n",
    "accuracy_svm = accuracy_ch_svm\n",
    "\n",
    "# Labels for the bar chart\n",
    "models = ['KNN', 'Naive Bayes', 'SVM']\n",
    "accuracies = [accuracy_knn, accuracy_nb, accuracy_svm]\n",
    "\n",
    "# Create the bar chart\n",
    "plt.figure(figsize=(10, 6))\n",
    "plt.bar(models, accuracies, color=['blue', 'green', 'red'])\n",
    "plt.ylim(0, 1)\n",
    "plt.ylabel('Accuracy')\n",
    "plt.title('Model Accuracy Comparison for Crop Health')\n",
    "plt.show()"
   ]
  },
  {
   "cell_type": "markdown",
   "id": "2a4518d3",
   "metadata": {},
   "source": [
    "# 2. Line Chart"
   ]
  },
  {
   "cell_type": "code",
   "execution_count": null,
   "id": "d791c017",
   "metadata": {},
   "outputs": [],
   "source": [
    "import matplotlib.pyplot as plt\n",
    "\n",
    "# Accuracy scores for each model\n",
    "accuracy_scores = {\n",
    "    'KNN': accuracy_wr,\n",
    "    'Naive Bayes': accuracy_wr_nb,\n",
    "    'SVM': accuracy_svm\n",
    "}\n",
    "\n",
    "# Extracting model names and corresponding accuracies\n",
    "models = list(accuracy_scores.keys())\n",
    "accuracies = list(accuracy_scores.values())\n",
    "\n",
    "plt.figure(figsize=(10, 6))\n",
    "plt.plot(models, accuracies, marker='o', linestyle='-', color='b', label='Accuracy')\n",
    "\n",
    "plt.xlabel('Models')\n",
    "plt.ylabel('Accuracy')\n",
    "plt.title('Accuracy Comparison of Models for Water Required')\n",
    "plt.ylim(0, 1)\n",
    "plt.grid(True)\n",
    "plt.legend()\n",
    "plt.show()\n"
   ]
  },
  {
   "cell_type": "code",
   "execution_count": null,
   "id": "074907cd",
   "metadata": {},
   "outputs": [],
   "source": [
    "import matplotlib.pyplot as plt\n",
    "\n",
    "accuracy_scores = {\n",
    "    'KNN': accuracy_ch,\n",
    "    'Naive Bayes': accuracy_ch_nb,\n",
    "    'SVM': accuracy_ch_svm\n",
    "}\n",
    "\n",
    "# Extracting model names and corresponding accuracies\n",
    "models = list(accuracy_scores.keys())\n",
    "accuracies = list(accuracy_scores.values())\n",
    "\n",
    "plt.figure(figsize=(10, 6))\n",
    "plt.plot(models, accuracies, marker='o', linestyle='-', color='b', label='Accuracy')\n",
    "\n",
    "plt.xlabel('Models')\n",
    "plt.ylabel('Accuracy')\n",
    "plt.title('Accuracy Comparison of Models for Crop Health')\n",
    "plt.ylim(0, 1)\n",
    "plt.grid(True)\n",
    "plt.legend()\n",
    "\n",
    "plt.show()"
   ]
  },
  {
   "cell_type": "markdown",
   "id": "bce538bd",
   "metadata": {},
   "source": [
    "# 3. Pie Chart"
   ]
  },
  {
   "cell_type": "code",
   "execution_count": null,
   "id": "06172890",
   "metadata": {},
   "outputs": [],
   "source": [
    "import matplotlib.pyplot as plt\n",
    "import pandas as pd\n",
    "import numpy as np\n",
    "\n",
    "# Define the unique labels and their counts for water required prediction\n",
    "water_required_labels, water_required_counts = np.unique(y_pred_wr, return_counts=True)\n",
    "\n",
    "# Plotting the pie chart for water required prediction\n",
    "plt.figure(figsize=(8, 6))\n",
    "plt.pie(water_required_counts, labels=water_required_labels, autopct='%1.1f%%', startangle=140)\n",
    "plt.title('Water Required Prediction')\n",
    "plt.axis('equal')    # Pie chart is drawn as a circle rather than an ellipse.\n",
    "\n",
    "# Add a text annotation for date-based information\n",
    "# The x and y coordinates for the position of the text annotation on the plot.\n",
    "plt.text(-1.5, 1.2, 'Data from 11 Feb 2024 to 25 Aug 2024', fontsize=12, color='gray')\n",
    "\n",
    "plt.show()"
   ]
  },
  {
   "cell_type": "code",
   "execution_count": null,
   "id": "859065ca",
   "metadata": {},
   "outputs": [],
   "source": [
    "# Define the unique labels and their counts for crop health prediction\n",
    "crop_health_labels, crop_health_counts = np.unique(y_pred_ch, return_counts=True)\n",
    "\n",
    "# Plotting the pie chart for crop health prediction\n",
    "plt.figure(figsize=(8, 6))\n",
    "plt.pie(crop_health_counts, labels=crop_health_labels, autopct='%1.1f%%', startangle=140)\n",
    "plt.title('Crop Health Prediction')\n",
    "plt.axis('equal')  \n",
    "\n",
    "# Add a text annotation for date-based information\n",
    "plt.text(-1.5, 1.2, 'Data from 11 Feb 2024 to 25 Aug 2024', fontsize=12, color='gray')\n",
    "\n",
    "plt.show()"
   ]
  },
  {
   "cell_type": "markdown",
   "id": "f9c2cfc5",
   "metadata": {},
   "source": [
    "# 4. 3D Visualization"
   ]
  },
  {
   "cell_type": "code",
   "execution_count": null,
   "id": "5a4a2e61",
   "metadata": {},
   "outputs": [],
   "source": [
    "from mpl_toolkits.mplot3d import Axes3D\n",
    "\n",
    "fig = plt.figure(figsize=(10, 7))\n",
    "# specifies the position of the subplot (1 row, 1 column, first subplot).\n",
    "ax = fig.add_subplot(111, projection='3d')     #adds a 3D subplot to the figure.\n",
    "sc = ax.scatter(clean_data['Temperature'], clean_data['Humidity'], clean_data['Soil Moisture'], c=clean_data['Water Required'], cmap='viridis', marker='o')\n",
    "ax.set_xlabel('Temperature')\n",
    "ax.set_ylabel('Humidity')\n",
    "ax.set_zlabel('Soil Moisture')\n",
    "plt.colorbar(sc, label='Water Required')\n",
    "plt.title('3D Scatter Plot of Temperature, Humidity, and Soil Moisture')\n",
    "plt.show()\n",
    "\n",
    "# Each point in the scatter plot represents a data entry from the dataset, with its position determined by the \n",
    "# temperature, humidity, and soil moisture values.\n",
    "\n",
    "# The color of the data points ranges from purple to yellow, indicating the amount of water required. \n",
    "# Purple indicates lower water requirements, and yellow indicates higher water requirements.\n",
    "\n",
    "# The color gradient helps in understanding how the water requirement changes with respect to temperature, \n",
    "# humidity, and soil moisture."
   ]
  },
  {
   "cell_type": "code",
   "execution_count": null,
   "id": "34c30142",
   "metadata": {},
   "outputs": [],
   "source": [
    "X = clean_data['Temperature']\n",
    "Y = clean_data['Humidity']\n",
    "Z = clean_data['Soil Moisture']\n",
    "\n",
    "fig = plt.figure(figsize=(12, 8))\n",
    "ax = fig.add_subplot(111, projection='3d')\n",
    "surf = ax.plot_trisurf(X, Y, Z, cmap='viridis', edgecolor='none')\n",
    "ax.set_xlabel('Temperature')\n",
    "ax.set_ylabel('Humidity')\n",
    "ax.set_zlabel('Soil Moisture')\n",
    "fig.colorbar(surf, ax=ax, shrink=0.5, aspect=5)\n",
    "plt.title('3D Surface Plot of Temperature, Humidity, and Soil Moisture')\n",
    "plt.show()\n",
    "\n",
    "# The surface plot shows how soil moisture varies with temperature and humidity.\n",
    "\n",
    "# For instance, if the yellow areas are concentrated at lower temperatures and higher humidity, \n",
    "# it suggests that soil moisture is higher in those condition"
   ]
  },
  {
   "cell_type": "markdown",
   "id": "dad27ed5",
   "metadata": {},
   "source": [
    "# 5. Area Chart"
   ]
  },
  {
   "cell_type": "code",
   "execution_count": null,
   "id": "7bafd988",
   "metadata": {},
   "outputs": [],
   "source": [
    "import matplotlib.pyplot as plt\n",
    "import pandas as pd\n",
    "import numpy as np\n",
    "\n",
    "# Generate random predictions for water required with 'Yes' having a 40% chance and 'No' having a 60% chance.\n",
    "y_pred_wr = np.random.choice(['Yes', 'No'], size=100, p=[0.4, 0.6])\n",
    "\n",
    "# Convert the 'Data Added' column to datetime\n",
    "clean_data['Data Added'] = pd.to_datetime(clean_data['Data Added'], format='%d-%b-%Y %I:%M %p')\n",
    "\n",
    "# Extract year and month for aggregation\n",
    "clean_data['YearMonth'] = clean_data['Data Added'].dt.to_period('M')\n",
    "\n",
    "# Function to plot area chart with date aggregation for categorical features\n",
    "def plot_area_chart_with_date_categorical(data, feature, title, xlabel, ylabel='Count'):\n",
    "    monthly_counts = data.groupby(['YearMonth'])[feature].value_counts().unstack().fillna(0)\n",
    "    monthly_counts.plot(kind='area', stacked=True, figsize=(10, 6))\n",
    "    plt.title(title)\n",
    "    plt.xlabel(xlabel)\n",
    "    plt.ylabel(ylabel)\n",
    "    plt.xticks(rotation=45)\n",
    "    plt.legend(title=feature)\n",
    "    plt.show()\n",
    "\n",
    "# Plot area chart for water required prediction with date aggregation\n",
    "plot_area_chart_with_date_categorical(clean_data, 'Water Required', \"Water Required Prediction Over Time\", \"Year-Month\", \"Count\")\n"
   ]
  },
  {
   "cell_type": "code",
   "execution_count": null,
   "id": "05d88783",
   "metadata": {},
   "outputs": [],
   "source": [
    "import matplotlib.pyplot as plt\n",
    "import pandas as pd\n",
    "import numpy as np\n",
    "\n",
    "# Generate random predictions for crop health\n",
    "y_pred_ch = np.random.choice(['Healthy', 'Unhealthy'], size=100, p=[0.6, 0.4])\n",
    "\n",
    "# Get unique labels and their counts for crop health prediction\n",
    "crop_health_labels, crop_health_counts = np.unique(y_pred_ch, return_counts=True)\n",
    "\n",
    "# Plot area chart for crop health prediction with date aggregation\n",
    "plot_area_chart_with_date_categorical(clean_data, 'Crop Health', \"Crop Health Prediction Over Time\", \"Year-Month\", \"Count\")\n"
   ]
  }
 ],
 "metadata": {
  "kernelspec": {
   "display_name": "Python 3 (ipykernel)",
   "language": "python",
   "name": "python3"
  },
  "language_info": {
   "codemirror_mode": {
    "name": "ipython",
    "version": 3
   },
   "file_extension": ".py",
   "mimetype": "text/x-python",
   "name": "python",
   "nbconvert_exporter": "python",
   "pygments_lexer": "ipython3",
   "version": "3.10.12"
  }
 },
 "nbformat": 4,
 "nbformat_minor": 5
}
